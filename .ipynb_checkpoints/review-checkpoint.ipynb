{
 "cells": [
  {
   "cell_type": "markdown",
   "id": "f6c350f1-39c0-420f-af3c-7549c1dfc0cc",
   "metadata": {
    "editable": true,
    "slideshow": {
     "slide_type": "slide"
    },
    "tags": []
   },
   "source": [
    "# jsb 논문 구현"
   ]
  },
  {
   "cell_type": "markdown",
   "id": "ea70dc0b-1da5-4676-95a2-2713065ec4e3",
   "metadata": {
    "editable": true,
    "slideshow": {
     "slide_type": "subslide"
    },
    "tags": []
   },
   "source": [
    "## 라이브러리 로드"
   ]
  },
  {
   "cell_type": "code",
   "execution_count": 1,
   "id": "156693a1-6a25-4951-b6a8-62ad1ba3976d",
   "metadata": {
    "editable": true,
    "slideshow": {
     "slide_type": "fragment"
    },
    "tags": []
   },
   "outputs": [],
   "source": [
    "import numpy as np\n",
    "import tensorflow as tf\n",
    "from tensorflow.keras.layers import LSTM, GRU, Dense, SimpleRNN\n",
    "from tensorflow.keras.models import Sequential\n",
    "from tensorflow.keras.optimizers import SGD\n",
    "from tensorflow.keras.losses import MeanSquaredError"
   ]
  },
  {
   "cell_type": "markdown",
   "id": "111c0b70-efd8-4c3b-bc73-490d2d0aaf1c",
   "metadata": {
    "editable": true,
    "slideshow": {
     "slide_type": "slide"
    },
    "tags": []
   },
   "source": [
    "## 데이터 로드 및 변환"
   ]
  },
  {
   "cell_type": "code",
   "execution_count": 2,
   "id": "38c5b8bb-5fc1-4438-a5b8-de497b667771",
   "metadata": {
    "editable": true,
    "slideshow": {
     "slide_type": "subslide"
    },
    "tags": []
   },
   "outputs": [],
   "source": [
    "import yaml\n",
    "\n",
    "class CustomLoader(yaml.Loader):\n",
    "    def __init__(self, stream):\n",
    "        super(CustomLoader, self).__init__(stream)\n",
    "        self.add_constructor('!obj:pylearn2.train.Train', self.construct_train)\n",
    "        self.add_constructor('!obj:librnn.pylearn2.datasets.music.MusicSequence', self.construct_generic)\n",
    "        self.add_constructor('!obj:pylearn2.sandbox.rnn.models.rnn.RNN', self.construct_generic)\n",
    "        self.add_constructor('!obj:pylearn2.sandbox.rnn.models.rnn.GRU', self.construct_generic)\n",
    "        self.add_constructor('!obj:librnn.pylearn2.models.mlp.Sigmoid', self.construct_generic)\n",
    "        self.add_constructor('!obj:pylearn2.sandbox.rnn.space.SequenceDataSpace', self.construct_generic)\n",
    "        self.add_constructor('!obj:pylearn2.space.VectorSpace', self.construct_generic)\n",
    "        self.add_constructor('!obj:pylearn2.training_algorithms.sgd.SGD', self.construct_generic)\n",
    "        self.add_constructor('!obj:librnn.pylearn2.training_algorithms.learning_rule.RMSPropMomentum', self.construct_generic)\n",
    "        self.add_constructor('!obj:librnn.pylearn2.costs.rnn.RNNCost', self.construct_generic)\n",
    "        self.add_constructor('!obj:pylearn2.termination_criteria.And', self.construct_generic)\n",
    "        self.add_constructor('!obj:pylearn2.termination_criteria.EpochCounter', self.construct_generic)\n",
    "        self.add_constructor('!obj:pylearn2.train_extensions.best_params.MonitorBasedSaveBest', self.construct_generic)\n",
    "        self.add_constructor('!obj:pylearn2.training_algorithms.sgd.LinearDecayOverEpoch', self.construct_generic)\n",
    "\n",
    "    def construct_train(self, loader, node):\n",
    "        # YAML에서 `!obj:pylearn2.train.Train` 태그가 사용될 때 반환될 객체/데이터 정의\n",
    "        # 여기서는 단순히 dict로 반환\n",
    "        return loader.construct_mapping(node)\n",
    "\n",
    "    def construct_generic(self, loader, node):\n",
    "        # 다른 모든 커스텀 태그는 기본적으로 dict로 변환\n",
    "        return loader.construct_mapping(node)\n",
    "\n"
   ]
  },
  {
   "cell_type": "code",
   "execution_count": 3,
   "id": "cc20f775-15db-471b-b3fb-0d4eca022d5c",
   "metadata": {
    "editable": true,
    "slideshow": {
     "slide_type": "subslide"
    },
    "tags": []
   },
   "outputs": [],
   "source": [
    "def load_data_with_custom_loader(yaml_file_path):\n",
    "    with open(yaml_file_path, 'r') as file:\n",
    "        try:\n",
    "            data = yaml.load(file, Loader=CustomLoader)\n",
    "        except yaml.YAMLError as e:\n",
    "            print(f\"Error parsing YAML: {e}\")\n",
    "            data = None\n",
    "    return data"
   ]
  },
  {
   "cell_type": "code",
   "execution_count": 4,
   "id": "12a0ea4f-c42f-4d85-a3a0-9458b0774640",
   "metadata": {
    "editable": true,
    "slideshow": {
     "slide_type": "subslide"
    },
    "tags": []
   },
   "outputs": [
    {
     "name": "stdout",
     "output_type": "stream",
     "text": [
      "GRU Data: {'dataset': {'which_dataset': 'jsb', 'which_set': 'train'}, 'model': {'input_space': {'space': {'dim': 96}}, 'layers': [{'layer_name': 'h_1', 'dim': 48, 'irange': 0.1, 'weight_noise': 1}, {'layer_name': 'y', 'dim': 96, 'irange': 0.1}]}, 'algorithm': {'batch_size': 1, 'learning_rate': 0.001, 'learning_rule': {'init_momentum': 0.9, 'momentum_clipping': 1.0}, 'monitoring_dataset': {'train': {'which_dataset': 'jsb', 'which_set': 'train'}, 'valid': {'which_dataset': 'jsb', 'which_set': 'valid'}}, 'cost': {}, 'termination_criterion': {'criteria': [{'max_epochs': 500}]}}, 'extensions': [{'channel_name': 'valid_objective', 'save_path': 'gru_best.pkl'}, {'start': 1, 'saturate': 500, 'decay_factor': 0.01}], 'save_path': 'gru.pkl', 'save_freq': 10}\n",
      "LSTM Data: {'dataset': {'which_dataset': 'jsb', 'which_set': 'train'}, 'model': {'input_space': {'space': {'dim': 96}}, 'layers': [{'layer_name': 'h_1', 'dim': 36, 'irange': 0.1, 'weight_noise': 1}, {'layer_name': 'y', 'dim': 96, 'irange': 0.1}]}, 'algorithm': {'batch_size': 1, 'learning_rate': 0.001, 'learning_rule': {'init_momentum': 0.9, 'momentum_clipping': 1.0}, 'monitoring_dataset': {'train': {'which_dataset': 'jsb', 'which_set': 'train'}, 'valid': {'which_dataset': 'jsb', 'which_set': 'valid'}}, 'cost': {}, 'termination_criterion': {'criteria': [{'max_epochs': 500}]}}, 'extensions': [{'channel_name': 'valid_objective', 'save_path': 'lstm_best.pkl'}, {'start': 1, 'saturate': 500, 'decay_factor': 0.01}], 'save_path': 'lstm.pkl', 'save_freq': 10}\n"
     ]
    }
   ],
   "source": [
    "# YAML 파일 경로 설정\n",
    "gru_yaml_path = 'gru.yaml'\n",
    "lstm_yaml_path = 'lstm.yaml'\n",
    "\n",
    "# 사용자 정의 로더로 YAML 파일 로드\n",
    "gru_data = load_data_with_custom_loader(gru_yaml_path)\n",
    "lstm_data = load_data_with_custom_loader(lstm_yaml_path)\n",
    "\n"
   ]
  },
  {
   "cell_type": "code",
   "execution_count": null,
   "id": "a7ac582f-146e-4860-a941-52fc0329a7f2",
   "metadata": {
    "editable": true,
    "slideshow": {
     "slide_type": ""
    },
    "tags": []
   },
   "outputs": [],
   "source": [
    "# 로드된 데이터 출력 (필요 시)\n",
    "print(\"GRU Data:\", gru_data)"
   ]
  },
  {
   "cell_type": "code",
   "execution_count": null,
   "id": "7c0d9b61-fc77-4487-ae93-6bbeae4c09de",
   "metadata": {
    "editable": true,
    "slideshow": {
     "slide_type": ""
    },
    "tags": []
   },
   "outputs": [],
   "source": [
    "print(\"LSTM Data:\", lstm_data)"
   ]
  },
  {
   "cell_type": "markdown",
   "id": "3b23a6b2-7cc3-4132-be4f-8ed6292105e0",
   "metadata": {
    "editable": true,
    "slideshow": {
     "slide_type": "slide"
    },
    "tags": []
   },
   "source": [
    "## 모델 세팅"
   ]
  },
  {
   "cell_type": "code",
   "execution_count": 5,
   "id": "74a2d4f1-d627-407c-97bb-24a9a31b554c",
   "metadata": {
    "editable": true,
    "slideshow": {
     "slide_type": "fragment"
    },
    "tags": []
   },
   "outputs": [],
   "source": [
    "# GRU 모델 구성\n",
    "def build_gru_model(gru_data):\n",
    "    input_dim = gru_data['model']['input_space']['space']['dim']\n",
    "    gru_layer_info = gru_data['model']['layers'][0]\n",
    "    output_dim = gru_data['model']['layers'][1]['dim']\n",
    "    \n",
    "    model = Sequential()\n",
    "    model.add(GRU(gru_layer_info['dim'], \n",
    "                  input_shape=(None, input_dim),\n",
    "                  return_sequences=True))\n",
    "    model.add(Dense(output_dim, \n",
    "                    activation='linear'))  # 활성화 함수를 'linear'로 설정하여 회귀 모델로 구성\n",
    "\n",
    "    # SGD 옵티마이저 사용\n",
    "    optimizer = SGD(learning_rate=gru_data['algorithm']['learning_rate'], \n",
    "                    momentum=gru_data['algorithm']['learning_rule']['init_momentum'])\n",
    "\n",
    "    model.compile(optimizer=optimizer, \n",
    "                  loss=MeanSquaredError(),\n",
    "                  metrics=[MeanSquaredError()])\n",
    "    return model\n"
   ]
  },
  {
   "cell_type": "code",
   "execution_count": 6,
   "id": "ea855e1e-24bd-4771-a536-81cb7318b9b5",
   "metadata": {
    "editable": true,
    "slideshow": {
     "slide_type": ""
    },
    "tags": []
   },
   "outputs": [],
   "source": [
    "# LSTM 모델 구성\n",
    "def build_lstm_model(lstm_data):\n",
    "    input_dim = lstm_data['model']['input_space']['space']['dim']\n",
    "    lstm_layer_info = lstm_data['model']['layers'][0]\n",
    "    output_dim = lstm_data['model']['layers'][1]['dim']\n",
    "    model = Sequential()\n",
    "    model.add(LSTM(lstm_layer_info['dim'],\n",
    "                   input_shape=(None, input_dim),\n",
    "                   return_sequences=True))\n",
    "    model.add(Dense(output_dim,\n",
    "                    activation='linear'))  # 활성화 함수를 'linear'로 설정하여 회귀 모델로 구성\n",
    "\n",
    "    # SGD 옵티마이저 사용\n",
    "    optimizer = SGD(learning_rate=lstm_data['algorithm']['learning_rate'], \n",
    "                    momentum=lstm_data['algorithm']['learning_rule']['init_momentum'])\n",
    "\n",
    "    model.compile(optimizer=optimizer, \n",
    "                  loss=MeanSquaredError(), \n",
    "                  metrics=[MeanSquaredError()])\n",
    "    return model\n"
   ]
  },
  {
   "cell_type": "code",
   "execution_count": 7,
   "id": "97ae6897-e67c-4d7c-a3e2-1ed786d23afb",
   "metadata": {
    "editable": true,
    "slideshow": {
     "slide_type": ""
    },
    "tags": []
   },
   "outputs": [],
   "source": [
    "# GRU 및 LSTM 모델 생성\n",
    "gru_model = build_gru_model(gru_data)\n",
    "lstm_model = build_lstm_model(lstm_data)\n"
   ]
  },
  {
   "cell_type": "markdown",
   "id": "ff4689a4-d4d1-4c87-a06e-1f5b36197c03",
   "metadata": {
    "editable": true,
    "slideshow": {
     "slide_type": "slide"
    },
    "tags": []
   },
   "source": [
    "## 모델 구조 확인"
   ]
  },
  {
   "cell_type": "code",
   "execution_count": 8,
   "id": "8714a9d6-90a1-48ed-b7ba-b203e2e2acac",
   "metadata": {
    "editable": true,
    "slideshow": {
     "slide_type": "fragment"
    },
    "tags": []
   },
   "outputs": [
    {
     "name": "stdout",
     "output_type": "stream",
     "text": [
      "Model: \"sequential\"\n",
      "_________________________________________________________________\n",
      " Layer (type)                Output Shape              Param #   \n",
      "=================================================================\n",
      " gru (GRU)                   (None, None, 48)          21024     \n",
      "                                                                 \n",
      " dense (Dense)               (None, None, 96)          4704      \n",
      "                                                                 \n",
      "=================================================================\n",
      "Total params: 25,728\n",
      "Trainable params: 25,728\n",
      "Non-trainable params: 0\n",
      "_________________________________________________________________\n"
     ]
    }
   ],
   "source": [
    "# 모델 구조 확인\n",
    "gru_model.summary()\n"
   ]
  },
  {
   "cell_type": "code",
   "execution_count": 9,
   "id": "6f70dc1d-1f23-4cb2-8a7f-95f92809036b",
   "metadata": {
    "editable": true,
    "slideshow": {
     "slide_type": ""
    },
    "tags": []
   },
   "outputs": [
    {
     "name": "stdout",
     "output_type": "stream",
     "text": [
      "Model: \"sequential_1\"\n",
      "_________________________________________________________________\n",
      " Layer (type)                Output Shape              Param #   \n",
      "=================================================================\n",
      " lstm (LSTM)                 (None, None, 36)          19152     \n",
      "                                                                 \n",
      " dense_1 (Dense)             (None, None, 96)          3552      \n",
      "                                                                 \n",
      "=================================================================\n",
      "Total params: 22,704\n",
      "Trainable params: 22,704\n",
      "Non-trainable params: 0\n",
      "_________________________________________________________________\n"
     ]
    }
   ],
   "source": [
    "lstm_model.summary()"
   ]
  },
  {
   "cell_type": "code",
   "execution_count": 10,
   "id": "7e476b9e-0f46-456f-8ab6-54acdd9186ca",
   "metadata": {
    "editable": true,
    "slideshow": {
     "slide_type": ""
    },
    "tags": []
   },
   "outputs": [],
   "source": [
    "\n",
    "# 데이터 준비 (예시 데이터)\n",
    "X_train = np.random.rand(1000, 10, 96)  # 예시 데이터\n",
    "y_train = np.random.rand(1000, 10, 96)  # 예시 데이터\n",
    "X_valid = np.random.rand(200, 10, 96)   # 예시 데이터\n",
    "y_valid = np.random.rand(200, 10, 96)   # 예시 데이터\n"
   ]
  },
  {
   "cell_type": "markdown",
   "id": "8d377b3d-fd00-4a4d-8684-9aa4c590da86",
   "metadata": {
    "editable": true,
    "slideshow": {
     "slide_type": "slide"
    },
    "tags": []
   },
   "source": [
    "## 훈련"
   ]
  },
  {
   "cell_type": "code",
   "execution_count": null,
   "id": "94d82e02-7740-4fe3-9b5c-c85655783644",
   "metadata": {
    "editable": true,
    "scrolled": true,
    "slideshow": {
     "slide_type": "fragment"
    },
    "tags": []
   },
   "outputs": [
    {
     "name": "stdout",
     "output_type": "stream",
     "text": [
      "Epoch 1/500\n",
      "1000/1000 [==============================] - 3s 2ms/step - loss: 0.1702 - mean_squared_error: 0.1702 - val_loss: 0.1021 - val_mean_squared_error: 0.1021\n",
      "Epoch 2/500\n",
      "1000/1000 [==============================] - 2s 2ms/step - loss: 0.0987 - mean_squared_error: 0.0987 - val_loss: 0.0978 - val_mean_squared_error: 0.0978\n",
      "Epoch 3/500\n",
      "1000/1000 [==============================] - 2s 2ms/step - loss: 0.0968 - mean_squared_error: 0.0968 - val_loss: 0.0965 - val_mean_squared_error: 0.0965\n",
      "Epoch 4/500\n",
      "1000/1000 [==============================] - 2s 2ms/step - loss: 0.0955 - mean_squared_error: 0.0955 - val_loss: 0.0953 - val_mean_squared_error: 0.0953\n",
      "Epoch 5/500\n",
      "1000/1000 [==============================] - 2s 2ms/step - loss: 0.0945 - mean_squared_error: 0.0945 - val_loss: 0.0943 - val_mean_squared_error: 0.0943\n",
      "Epoch 6/500\n",
      "1000/1000 [==============================] - 2s 2ms/step - loss: 0.0935 - mean_squared_error: 0.0935 - val_loss: 0.0934 - val_mean_squared_error: 0.0934\n",
      "Epoch 7/500\n",
      "1000/1000 [==============================] - 2s 2ms/step - loss: 0.0927 - mean_squared_error: 0.0927 - val_loss: 0.0926 - val_mean_squared_error: 0.0926\n",
      "Epoch 8/500\n",
      "1000/1000 [==============================] - 2s 2ms/step - loss: 0.0920 - mean_squared_error: 0.0920 - val_loss: 0.0920 - val_mean_squared_error: 0.0920\n",
      "Epoch 9/500\n",
      "1000/1000 [==============================] - 2s 2ms/step - loss: 0.0914 - mean_squared_error: 0.0914 - val_loss: 0.0914 - val_mean_squared_error: 0.0914\n",
      "Epoch 10/500\n",
      "1000/1000 [==============================] - 2s 2ms/step - loss: 0.0908 - mean_squared_error: 0.0908 - val_loss: 0.0908 - val_mean_squared_error: 0.0908\n",
      "Epoch 11/500\n",
      "1000/1000 [==============================] - 2s 2ms/step - loss: 0.0903 - mean_squared_error: 0.0903 - val_loss: 0.0904 - val_mean_squared_error: 0.0904\n",
      "Epoch 12/500\n",
      "1000/1000 [==============================] - 2s 2ms/step - loss: 0.0899 - mean_squared_error: 0.0899 - val_loss: 0.0899 - val_mean_squared_error: 0.0899\n",
      "Epoch 13/500\n",
      "1000/1000 [==============================] - 2s 2ms/step - loss: 0.0895 - mean_squared_error: 0.0895 - val_loss: 0.0896 - val_mean_squared_error: 0.0896\n",
      "Epoch 14/500\n",
      "1000/1000 [==============================] - 2s 2ms/step - loss: 0.0891 - mean_squared_error: 0.0891 - val_loss: 0.0892 - val_mean_squared_error: 0.0892\n",
      "Epoch 15/500\n",
      "1000/1000 [==============================] - 2s 2ms/step - loss: 0.0888 - mean_squared_error: 0.0888 - val_loss: 0.0889 - val_mean_squared_error: 0.0889\n",
      "Epoch 16/500\n",
      "1000/1000 [==============================] - 2s 2ms/step - loss: 0.0885 - mean_squared_error: 0.0885 - val_loss: 0.0886 - val_mean_squared_error: 0.0886\n",
      "Epoch 17/500\n",
      "1000/1000 [==============================] - 2s 2ms/step - loss: 0.0882 - mean_squared_error: 0.0882 - val_loss: 0.0883 - val_mean_squared_error: 0.0883\n",
      "Epoch 18/500\n",
      "1000/1000 [==============================] - 2s 2ms/step - loss: 0.0879 - mean_squared_error: 0.0879 - val_loss: 0.0881 - val_mean_squared_error: 0.0881\n",
      "Epoch 19/500\n",
      "1000/1000 [==============================] - 2s 2ms/step - loss: 0.0877 - mean_squared_error: 0.0877 - val_loss: 0.0879 - val_mean_squared_error: 0.0879\n",
      "Epoch 20/500\n",
      "1000/1000 [==============================] - 2s 2ms/step - loss: 0.0875 - mean_squared_error: 0.0875 - val_loss: 0.0877 - val_mean_squared_error: 0.0877\n",
      "Epoch 21/500\n",
      "1000/1000 [==============================] - 2s 2ms/step - loss: 0.0873 - mean_squared_error: 0.0873 - val_loss: 0.0875 - val_mean_squared_error: 0.0875\n",
      "Epoch 22/500\n",
      "1000/1000 [==============================] - 2s 2ms/step - loss: 0.0871 - mean_squared_error: 0.0871 - val_loss: 0.0873 - val_mean_squared_error: 0.0873\n",
      "Epoch 23/500\n",
      "1000/1000 [==============================] - 2s 2ms/step - loss: 0.0870 - mean_squared_error: 0.0870 - val_loss: 0.0871 - val_mean_squared_error: 0.0871\n",
      "Epoch 24/500\n",
      "1000/1000 [==============================] - 2s 2ms/step - loss: 0.0868 - mean_squared_error: 0.0868 - val_loss: 0.0870 - val_mean_squared_error: 0.0870\n",
      "Epoch 25/500\n",
      "1000/1000 [==============================] - 2s 2ms/step - loss: 0.0867 - mean_squared_error: 0.0867 - val_loss: 0.0868 - val_mean_squared_error: 0.0868\n",
      "Epoch 26/500\n",
      "1000/1000 [==============================] - 2s 2ms/step - loss: 0.0865 - mean_squared_error: 0.0865 - val_loss: 0.0867 - val_mean_squared_error: 0.0867\n",
      "Epoch 27/500\n",
      "1000/1000 [==============================] - 2s 2ms/step - loss: 0.0864 - mean_squared_error: 0.0864 - val_loss: 0.0866 - val_mean_squared_error: 0.0866\n",
      "Epoch 28/500\n",
      "1000/1000 [==============================] - 2s 2ms/step - loss: 0.0863 - mean_squared_error: 0.0863 - val_loss: 0.0865 - val_mean_squared_error: 0.0865\n",
      "Epoch 29/500\n",
      "1000/1000 [==============================] - 2s 2ms/step - loss: 0.0862 - mean_squared_error: 0.0862 - val_loss: 0.0863 - val_mean_squared_error: 0.0863\n",
      "Epoch 30/500\n",
      "1000/1000 [==============================] - 2s 2ms/step - loss: 0.0861 - mean_squared_error: 0.0861 - val_loss: 0.0862 - val_mean_squared_error: 0.0862\n",
      "Epoch 31/500\n",
      "1000/1000 [==============================] - 2s 2ms/step - loss: 0.0859 - mean_squared_error: 0.0859 - val_loss: 0.0861 - val_mean_squared_error: 0.0861\n",
      "Epoch 32/500\n",
      "1000/1000 [==============================] - 2s 2ms/step - loss: 0.0859 - mean_squared_error: 0.0859 - val_loss: 0.0861 - val_mean_squared_error: 0.0861\n",
      "Epoch 33/500\n",
      "1000/1000 [==============================] - 2s 2ms/step - loss: 0.0858 - mean_squared_error: 0.0858 - val_loss: 0.0860 - val_mean_squared_error: 0.0860\n",
      "Epoch 34/500\n",
      "1000/1000 [==============================] - 2s 2ms/step - loss: 0.0857 - mean_squared_error: 0.0857 - val_loss: 0.0859 - val_mean_squared_error: 0.0859\n",
      "Epoch 35/500\n",
      "1000/1000 [==============================] - 2s 2ms/step - loss: 0.0856 - mean_squared_error: 0.0856 - val_loss: 0.0858 - val_mean_squared_error: 0.0858\n",
      "Epoch 36/500\n",
      "1000/1000 [==============================] - 2s 2ms/step - loss: 0.0855 - mean_squared_error: 0.0855 - val_loss: 0.0857 - val_mean_squared_error: 0.0857\n",
      "Epoch 37/500\n",
      "1000/1000 [==============================] - 2s 2ms/step - loss: 0.0855 - mean_squared_error: 0.0855 - val_loss: 0.0857 - val_mean_squared_error: 0.0857\n",
      "Epoch 38/500\n",
      "1000/1000 [==============================] - 2s 2ms/step - loss: 0.0854 - mean_squared_error: 0.0854 - val_loss: 0.0856 - val_mean_squared_error: 0.0856\n",
      "Epoch 39/500\n",
      "1000/1000 [==============================] - 2s 2ms/step - loss: 0.0853 - mean_squared_error: 0.0853 - val_loss: 0.0855 - val_mean_squared_error: 0.0855\n",
      "Epoch 40/500\n",
      "1000/1000 [==============================] - 2s 2ms/step - loss: 0.0853 - mean_squared_error: 0.0853 - val_loss: 0.0855 - val_mean_squared_error: 0.0855\n",
      "Epoch 41/500\n",
      "1000/1000 [==============================] - 2s 2ms/step - loss: 0.0852 - mean_squared_error: 0.0852 - val_loss: 0.0854 - val_mean_squared_error: 0.0854\n",
      "Epoch 42/500\n",
      "1000/1000 [==============================] - 2s 2ms/step - loss: 0.0852 - mean_squared_error: 0.0852 - val_loss: 0.0854 - val_mean_squared_error: 0.0854\n",
      "Epoch 43/500\n",
      "1000/1000 [==============================] - 2s 2ms/step - loss: 0.0851 - mean_squared_error: 0.0851 - val_loss: 0.0853 - val_mean_squared_error: 0.0853\n",
      "Epoch 44/500\n",
      "1000/1000 [==============================] - 2s 2ms/step - loss: 0.0851 - mean_squared_error: 0.0851 - val_loss: 0.0853 - val_mean_squared_error: 0.0853\n",
      "Epoch 45/500\n",
      "1000/1000 [==============================] - 2s 2ms/step - loss: 0.0850 - mean_squared_error: 0.0850 - val_loss: 0.0852 - val_mean_squared_error: 0.0852\n",
      "Epoch 46/500\n",
      "1000/1000 [==============================] - 2s 2ms/step - loss: 0.0850 - mean_squared_error: 0.0850 - val_loss: 0.0852 - val_mean_squared_error: 0.0852\n",
      "Epoch 47/500\n",
      "1000/1000 [==============================] - 2s 2ms/step - loss: 0.0849 - mean_squared_error: 0.0849 - val_loss: 0.0851 - val_mean_squared_error: 0.0851\n",
      "Epoch 48/500\n",
      "1000/1000 [==============================] - 2s 2ms/step - loss: 0.0849 - mean_squared_error: 0.0849 - val_loss: 0.0851 - val_mean_squared_error: 0.0851\n",
      "Epoch 49/500\n",
      "1000/1000 [==============================] - 2s 2ms/step - loss: 0.0849 - mean_squared_error: 0.0849 - val_loss: 0.0851 - val_mean_squared_error: 0.0851\n",
      "Epoch 50/500\n",
      "1000/1000 [==============================] - 2s 2ms/step - loss: 0.0848 - mean_squared_error: 0.0848 - val_loss: 0.0850 - val_mean_squared_error: 0.0850\n",
      "Epoch 51/500\n",
      "1000/1000 [==============================] - 2s 2ms/step - loss: 0.0848 - mean_squared_error: 0.0848 - val_loss: 0.0850 - val_mean_squared_error: 0.0850\n",
      "Epoch 52/500\n",
      "1000/1000 [==============================] - 2s 2ms/step - loss: 0.0848 - mean_squared_error: 0.0848 - val_loss: 0.0850 - val_mean_squared_error: 0.0850\n",
      "Epoch 53/500\n",
      "1000/1000 [==============================] - 2s 2ms/step - loss: 0.0847 - mean_squared_error: 0.0847 - val_loss: 0.0849 - val_mean_squared_error: 0.0849\n",
      "Epoch 54/500\n",
      "1000/1000 [==============================] - 2s 2ms/step - loss: 0.0847 - mean_squared_error: 0.0847 - val_loss: 0.0849 - val_mean_squared_error: 0.0849\n",
      "Epoch 55/500\n",
      "1000/1000 [==============================] - 2s 2ms/step - loss: 0.0847 - mean_squared_error: 0.0847 - val_loss: 0.0849 - val_mean_squared_error: 0.0849\n",
      "Epoch 56/500\n",
      "1000/1000 [==============================] - 2s 2ms/step - loss: 0.0846 - mean_squared_error: 0.0846 - val_loss: 0.0849 - val_mean_squared_error: 0.0849\n",
      "Epoch 57/500\n",
      "1000/1000 [==============================] - 2s 2ms/step - loss: 0.0846 - mean_squared_error: 0.0846 - val_loss: 0.0848 - val_mean_squared_error: 0.0848\n",
      "Epoch 58/500\n",
      "1000/1000 [==============================] - 2s 2ms/step - loss: 0.0846 - mean_squared_error: 0.0846 - val_loss: 0.0848 - val_mean_squared_error: 0.0848\n",
      "Epoch 59/500\n",
      "1000/1000 [==============================] - 2s 2ms/step - loss: 0.0846 - mean_squared_error: 0.0846 - val_loss: 0.0848 - val_mean_squared_error: 0.0848\n",
      "Epoch 60/500\n",
      "1000/1000 [==============================] - 2s 2ms/step - loss: 0.0845 - mean_squared_error: 0.0845 - val_loss: 0.0848 - val_mean_squared_error: 0.0848\n",
      "Epoch 61/500\n",
      "1000/1000 [==============================] - 2s 2ms/step - loss: 0.0845 - mean_squared_error: 0.0845 - val_loss: 0.0847 - val_mean_squared_error: 0.0847\n",
      "Epoch 62/500\n",
      "1000/1000 [==============================] - 2s 2ms/step - loss: 0.0845 - mean_squared_error: 0.0845 - val_loss: 0.0847 - val_mean_squared_error: 0.0847\n",
      "Epoch 63/500\n",
      "1000/1000 [==============================] - 2s 2ms/step - loss: 0.0845 - mean_squared_error: 0.0845 - val_loss: 0.0847 - val_mean_squared_error: 0.0847\n",
      "Epoch 64/500\n",
      "1000/1000 [==============================] - 2s 2ms/step - loss: 0.0845 - mean_squared_error: 0.0845 - val_loss: 0.0847 - val_mean_squared_error: 0.0847\n",
      "Epoch 65/500\n",
      "1000/1000 [==============================] - 2s 2ms/step - loss: 0.0844 - mean_squared_error: 0.0844 - val_loss: 0.0846 - val_mean_squared_error: 0.0846\n",
      "Epoch 66/500\n",
      "1000/1000 [==============================] - 2s 2ms/step - loss: 0.0844 - mean_squared_error: 0.0844 - val_loss: 0.0846 - val_mean_squared_error: 0.0846\n",
      "Epoch 67/500\n",
      "1000/1000 [==============================] - 2s 2ms/step - loss: 0.0844 - mean_squared_error: 0.0844 - val_loss: 0.0846 - val_mean_squared_error: 0.0846\n",
      "Epoch 68/500\n",
      "1000/1000 [==============================] - 2s 2ms/step - loss: 0.0844 - mean_squared_error: 0.0844 - val_loss: 0.0846 - val_mean_squared_error: 0.0846\n",
      "Epoch 69/500\n",
      "1000/1000 [==============================] - 2s 2ms/step - loss: 0.0844 - mean_squared_error: 0.0844 - val_loss: 0.0846 - val_mean_squared_error: 0.0846\n",
      "Epoch 70/500\n",
      "1000/1000 [==============================] - 2s 2ms/step - loss: 0.0844 - mean_squared_error: 0.0844 - val_loss: 0.0846 - val_mean_squared_error: 0.0846\n",
      "Epoch 71/500\n",
      "1000/1000 [==============================] - 2s 2ms/step - loss: 0.0844 - mean_squared_error: 0.0844 - val_loss: 0.0846 - val_mean_squared_error: 0.0846\n",
      "Epoch 72/500\n",
      "1000/1000 [==============================] - 2s 2ms/step - loss: 0.0843 - mean_squared_error: 0.0843 - val_loss: 0.0846 - val_mean_squared_error: 0.0846\n",
      "Epoch 73/500\n",
      "1000/1000 [==============================] - 2s 2ms/step - loss: 0.0843 - mean_squared_error: 0.0843 - val_loss: 0.0845 - val_mean_squared_error: 0.0845\n",
      "Epoch 74/500\n",
      "1000/1000 [==============================] - 2s 2ms/step - loss: 0.0843 - mean_squared_error: 0.0843 - val_loss: 0.0845 - val_mean_squared_error: 0.0845\n",
      "Epoch 75/500\n",
      "1000/1000 [==============================] - 2s 2ms/step - loss: 0.0843 - mean_squared_error: 0.0843 - val_loss: 0.0845 - val_mean_squared_error: 0.0845\n",
      "Epoch 76/500\n",
      "1000/1000 [==============================] - 2s 2ms/step - loss: 0.0843 - mean_squared_error: 0.0843 - val_loss: 0.0845 - val_mean_squared_error: 0.0845\n",
      "Epoch 77/500\n",
      "1000/1000 [==============================] - 2s 2ms/step - loss: 0.0843 - mean_squared_error: 0.0843 - val_loss: 0.0845 - val_mean_squared_error: 0.0845\n",
      "Epoch 78/500\n",
      "1000/1000 [==============================] - 2s 2ms/step - loss: 0.0843 - mean_squared_error: 0.0843 - val_loss: 0.0845 - val_mean_squared_error: 0.0845\n",
      "Epoch 79/500\n",
      "1000/1000 [==============================] - 2s 2ms/step - loss: 0.0843 - mean_squared_error: 0.0843 - val_loss: 0.0845 - val_mean_squared_error: 0.0845\n",
      "Epoch 80/500\n",
      "1000/1000 [==============================] - 2s 2ms/step - loss: 0.0842 - mean_squared_error: 0.0842 - val_loss: 0.0845 - val_mean_squared_error: 0.0845\n",
      "Epoch 81/500\n",
      "1000/1000 [==============================] - 2s 2ms/step - loss: 0.0842 - mean_squared_error: 0.0842 - val_loss: 0.0844 - val_mean_squared_error: 0.0844\n",
      "Epoch 82/500\n",
      "1000/1000 [==============================] - 2s 2ms/step - loss: 0.0842 - mean_squared_error: 0.0842 - val_loss: 0.0844 - val_mean_squared_error: 0.0844\n",
      "Epoch 83/500\n",
      "1000/1000 [==============================] - 2s 2ms/step - loss: 0.0842 - mean_squared_error: 0.0842 - val_loss: 0.0844 - val_mean_squared_error: 0.0844\n",
      "Epoch 84/500\n",
      "1000/1000 [==============================] - 3s 3ms/step - loss: 0.0842 - mean_squared_error: 0.0842 - val_loss: 0.0844 - val_mean_squared_error: 0.0844\n",
      "Epoch 85/500\n",
      "1000/1000 [==============================] - 3s 3ms/step - loss: 0.0842 - mean_squared_error: 0.0842 - val_loss: 0.0844 - val_mean_squared_error: 0.0844\n",
      "Epoch 86/500\n",
      "1000/1000 [==============================] - 3s 3ms/step - loss: 0.0842 - mean_squared_error: 0.0842 - val_loss: 0.0844 - val_mean_squared_error: 0.0844\n",
      "Epoch 87/500\n",
      "1000/1000 [==============================] - 3s 3ms/step - loss: 0.0842 - mean_squared_error: 0.0842 - val_loss: 0.0844 - val_mean_squared_error: 0.0844\n",
      "Epoch 88/500\n",
      "1000/1000 [==============================] - 3s 3ms/step - loss: 0.0842 - mean_squared_error: 0.0842 - val_loss: 0.0844 - val_mean_squared_error: 0.0844\n",
      "Epoch 89/500\n",
      "1000/1000 [==============================] - 2s 2ms/step - loss: 0.0842 - mean_squared_error: 0.0842 - val_loss: 0.0844 - val_mean_squared_error: 0.0844\n",
      "Epoch 90/500\n",
      "1000/1000 [==============================] - 2s 2ms/step - loss: 0.0842 - mean_squared_error: 0.0842 - val_loss: 0.0844 - val_mean_squared_error: 0.0844\n",
      "Epoch 91/500\n",
      "1000/1000 [==============================] - 2s 2ms/step - loss: 0.0842 - mean_squared_error: 0.0842 - val_loss: 0.0844 - val_mean_squared_error: 0.0844\n",
      "Epoch 92/500\n",
      "1000/1000 [==============================] - 3s 3ms/step - loss: 0.0841 - mean_squared_error: 0.0841 - val_loss: 0.0844 - val_mean_squared_error: 0.0844\n",
      "Epoch 93/500\n",
      "1000/1000 [==============================] - 2s 2ms/step - loss: 0.0841 - mean_squared_error: 0.0841 - val_loss: 0.0844 - val_mean_squared_error: 0.0844\n",
      "Epoch 94/500\n",
      "1000/1000 [==============================] - 2s 2ms/step - loss: 0.0841 - mean_squared_error: 0.0841 - val_loss: 0.0843 - val_mean_squared_error: 0.0843\n",
      "Epoch 95/500\n",
      "1000/1000 [==============================] - 2s 2ms/step - loss: 0.0841 - mean_squared_error: 0.0841 - val_loss: 0.0843 - val_mean_squared_error: 0.0843\n",
      "Epoch 96/500\n",
      "1000/1000 [==============================] - 2s 2ms/step - loss: 0.0841 - mean_squared_error: 0.0841 - val_loss: 0.0843 - val_mean_squared_error: 0.0843\n",
      "Epoch 97/500\n",
      "1000/1000 [==============================] - 2s 2ms/step - loss: 0.0841 - mean_squared_error: 0.0841 - val_loss: 0.0843 - val_mean_squared_error: 0.0843\n",
      "Epoch 98/500\n",
      "1000/1000 [==============================] - 2s 2ms/step - loss: 0.0841 - mean_squared_error: 0.0841 - val_loss: 0.0843 - val_mean_squared_error: 0.0843\n",
      "Epoch 99/500\n",
      "1000/1000 [==============================] - 2s 2ms/step - loss: 0.0841 - mean_squared_error: 0.0841 - val_loss: 0.0843 - val_mean_squared_error: 0.0843\n",
      "Epoch 100/500\n",
      "1000/1000 [==============================] - 2s 2ms/step - loss: 0.0841 - mean_squared_error: 0.0841 - val_loss: 0.0843 - val_mean_squared_error: 0.0843\n",
      "Epoch 101/500\n",
      "1000/1000 [==============================] - 3s 3ms/step - loss: 0.0841 - mean_squared_error: 0.0841 - val_loss: 0.0843 - val_mean_squared_error: 0.0843\n",
      "Epoch 102/500\n",
      "1000/1000 [==============================] - 3s 3ms/step - loss: 0.0841 - mean_squared_error: 0.0841 - val_loss: 0.0843 - val_mean_squared_error: 0.0843\n",
      "Epoch 103/500\n",
      "1000/1000 [==============================] - 2s 2ms/step - loss: 0.0841 - mean_squared_error: 0.0841 - val_loss: 0.0843 - val_mean_squared_error: 0.0843\n",
      "Epoch 104/500\n",
      "1000/1000 [==============================] - 3s 3ms/step - loss: 0.0841 - mean_squared_error: 0.0841 - val_loss: 0.0843 - val_mean_squared_error: 0.0843\n",
      "Epoch 105/500\n",
      "1000/1000 [==============================] - 2s 2ms/step - loss: 0.0841 - mean_squared_error: 0.0841 - val_loss: 0.0843 - val_mean_squared_error: 0.0843\n",
      "Epoch 106/500\n",
      "1000/1000 [==============================] - 2s 2ms/step - loss: 0.0841 - mean_squared_error: 0.0841 - val_loss: 0.0843 - val_mean_squared_error: 0.0843\n",
      "Epoch 107/500\n",
      "1000/1000 [==============================] - 2s 2ms/step - loss: 0.0840 - mean_squared_error: 0.0840 - val_loss: 0.0843 - val_mean_squared_error: 0.0843\n",
      "Epoch 108/500\n",
      "1000/1000 [==============================] - 2s 2ms/step - loss: 0.0840 - mean_squared_error: 0.0840 - val_loss: 0.0843 - val_mean_squared_error: 0.0843\n",
      "Epoch 109/500\n",
      "1000/1000 [==============================] - 2s 2ms/step - loss: 0.0840 - mean_squared_error: 0.0840 - val_loss: 0.0842 - val_mean_squared_error: 0.0842\n",
      "Epoch 110/500\n",
      "1000/1000 [==============================] - 2s 2ms/step - loss: 0.0840 - mean_squared_error: 0.0840 - val_loss: 0.0842 - val_mean_squared_error: 0.0842\n",
      "Epoch 111/500\n",
      "1000/1000 [==============================] - 2s 2ms/step - loss: 0.0840 - mean_squared_error: 0.0840 - val_loss: 0.0842 - val_mean_squared_error: 0.0842\n",
      "Epoch 112/500\n",
      "1000/1000 [==============================] - 2s 2ms/step - loss: 0.0840 - mean_squared_error: 0.0840 - val_loss: 0.0842 - val_mean_squared_error: 0.0842\n",
      "Epoch 113/500\n",
      "1000/1000 [==============================] - 2s 2ms/step - loss: 0.0840 - mean_squared_error: 0.0840 - val_loss: 0.0842 - val_mean_squared_error: 0.0842\n",
      "Epoch 114/500\n",
      "1000/1000 [==============================] - 2s 2ms/step - loss: 0.0840 - mean_squared_error: 0.0840 - val_loss: 0.0842 - val_mean_squared_error: 0.0842\n",
      "Epoch 115/500\n",
      "1000/1000 [==============================] - 2s 2ms/step - loss: 0.0840 - mean_squared_error: 0.0840 - val_loss: 0.0842 - val_mean_squared_error: 0.0842\n",
      "Epoch 116/500\n",
      "1000/1000 [==============================] - 2s 2ms/step - loss: 0.0840 - mean_squared_error: 0.0840 - val_loss: 0.0842 - val_mean_squared_error: 0.0842\n",
      "Epoch 117/500\n",
      "1000/1000 [==============================] - 3s 3ms/step - loss: 0.0840 - mean_squared_error: 0.0840 - val_loss: 0.0842 - val_mean_squared_error: 0.0842\n",
      "Epoch 118/500\n",
      "1000/1000 [==============================] - 2s 2ms/step - loss: 0.0840 - mean_squared_error: 0.0840 - val_loss: 0.0842 - val_mean_squared_error: 0.0842\n",
      "Epoch 119/500\n",
      "1000/1000 [==============================] - 2s 2ms/step - loss: 0.0840 - mean_squared_error: 0.0840 - val_loss: 0.0842 - val_mean_squared_error: 0.0842\n",
      "Epoch 120/500\n",
      "1000/1000 [==============================] - 2s 2ms/step - loss: 0.0840 - mean_squared_error: 0.0840 - val_loss: 0.0842 - val_mean_squared_error: 0.0842\n",
      "Epoch 121/500\n",
      "1000/1000 [==============================] - 2s 2ms/step - loss: 0.0840 - mean_squared_error: 0.0840 - val_loss: 0.0842 - val_mean_squared_error: 0.0842\n",
      "Epoch 122/500\n",
      "1000/1000 [==============================] - 2s 2ms/step - loss: 0.0840 - mean_squared_error: 0.0840 - val_loss: 0.0842 - val_mean_squared_error: 0.0842\n",
      "Epoch 123/500\n",
      "1000/1000 [==============================] - 2s 2ms/step - loss: 0.0840 - mean_squared_error: 0.0840 - val_loss: 0.0842 - val_mean_squared_error: 0.0842\n",
      "Epoch 124/500\n",
      "1000/1000 [==============================] - 2s 2ms/step - loss: 0.0840 - mean_squared_error: 0.0840 - val_loss: 0.0842 - val_mean_squared_error: 0.0842\n",
      "Epoch 125/500\n",
      "1000/1000 [==============================] - 2s 2ms/step - loss: 0.0840 - mean_squared_error: 0.0840 - val_loss: 0.0842 - val_mean_squared_error: 0.0842\n",
      "Epoch 126/500\n",
      "1000/1000 [==============================] - 2s 2ms/step - loss: 0.0840 - mean_squared_error: 0.0840 - val_loss: 0.0842 - val_mean_squared_error: 0.0842\n",
      "Epoch 127/500\n",
      "1000/1000 [==============================] - 2s 2ms/step - loss: 0.0840 - mean_squared_error: 0.0840 - val_loss: 0.0842 - val_mean_squared_error: 0.0842\n",
      "Epoch 128/500\n",
      "1000/1000 [==============================] - 2s 2ms/step - loss: 0.0840 - mean_squared_error: 0.0840 - val_loss: 0.0842 - val_mean_squared_error: 0.0842\n",
      "Epoch 129/500\n",
      "1000/1000 [==============================] - 2s 2ms/step - loss: 0.0839 - mean_squared_error: 0.0839 - val_loss: 0.0842 - val_mean_squared_error: 0.0842\n",
      "Epoch 130/500\n",
      "1000/1000 [==============================] - 2s 2ms/step - loss: 0.0839 - mean_squared_error: 0.0839 - val_loss: 0.0842 - val_mean_squared_error: 0.0842\n",
      "Epoch 131/500\n",
      "1000/1000 [==============================] - 2s 2ms/step - loss: 0.0839 - mean_squared_error: 0.0839 - val_loss: 0.0842 - val_mean_squared_error: 0.0842\n",
      "Epoch 132/500\n",
      "1000/1000 [==============================] - 2s 2ms/step - loss: 0.0839 - mean_squared_error: 0.0839 - val_loss: 0.0841 - val_mean_squared_error: 0.0841\n",
      "Epoch 133/500\n",
      "1000/1000 [==============================] - 2s 2ms/step - loss: 0.0839 - mean_squared_error: 0.0839 - val_loss: 0.0841 - val_mean_squared_error: 0.0841\n",
      "Epoch 134/500\n",
      "1000/1000 [==============================] - 3s 3ms/step - loss: 0.0839 - mean_squared_error: 0.0839 - val_loss: 0.0841 - val_mean_squared_error: 0.0841\n",
      "Epoch 135/500\n",
      "1000/1000 [==============================] - 2s 2ms/step - loss: 0.0839 - mean_squared_error: 0.0839 - val_loss: 0.0841 - val_mean_squared_error: 0.0841\n",
      "Epoch 136/500\n",
      "1000/1000 [==============================] - 2s 2ms/step - loss: 0.0839 - mean_squared_error: 0.0839 - val_loss: 0.0841 - val_mean_squared_error: 0.0841\n",
      "Epoch 137/500\n",
      "1000/1000 [==============================] - 2s 2ms/step - loss: 0.0839 - mean_squared_error: 0.0839 - val_loss: 0.0841 - val_mean_squared_error: 0.0841\n",
      "Epoch 138/500\n",
      "1000/1000 [==============================] - 3s 3ms/step - loss: 0.0839 - mean_squared_error: 0.0839 - val_loss: 0.0841 - val_mean_squared_error: 0.0841\n",
      "Epoch 139/500\n",
      "1000/1000 [==============================] - 3s 3ms/step - loss: 0.0839 - mean_squared_error: 0.0839 - val_loss: 0.0841 - val_mean_squared_error: 0.0841\n",
      "Epoch 140/500\n",
      "1000/1000 [==============================] - 3s 3ms/step - loss: 0.0839 - mean_squared_error: 0.0839 - val_loss: 0.0841 - val_mean_squared_error: 0.0841\n",
      "Epoch 141/500\n",
      "1000/1000 [==============================] - 3s 3ms/step - loss: 0.0839 - mean_squared_error: 0.0839 - val_loss: 0.0841 - val_mean_squared_error: 0.0841\n",
      "Epoch 142/500\n",
      "1000/1000 [==============================] - 3s 3ms/step - loss: 0.0839 - mean_squared_error: 0.0839 - val_loss: 0.0841 - val_mean_squared_error: 0.0841\n",
      "Epoch 143/500\n",
      "1000/1000 [==============================] - 3s 3ms/step - loss: 0.0839 - mean_squared_error: 0.0839 - val_loss: 0.0841 - val_mean_squared_error: 0.0841\n",
      "Epoch 144/500\n",
      "1000/1000 [==============================] - 2s 2ms/step - loss: 0.0839 - mean_squared_error: 0.0839 - val_loss: 0.0841 - val_mean_squared_error: 0.0841\n",
      "Epoch 145/500\n",
      "1000/1000 [==============================] - 2s 2ms/step - loss: 0.0839 - mean_squared_error: 0.0839 - val_loss: 0.0841 - val_mean_squared_error: 0.0841\n",
      "Epoch 146/500\n",
      "1000/1000 [==============================] - 2s 2ms/step - loss: 0.0839 - mean_squared_error: 0.0839 - val_loss: 0.0841 - val_mean_squared_error: 0.0841\n",
      "Epoch 147/500\n",
      "1000/1000 [==============================] - 2s 2ms/step - loss: 0.0839 - mean_squared_error: 0.0839 - val_loss: 0.0841 - val_mean_squared_error: 0.0841\n",
      "Epoch 148/500\n",
      "1000/1000 [==============================] - 2s 2ms/step - loss: 0.0839 - mean_squared_error: 0.0839 - val_loss: 0.0841 - val_mean_squared_error: 0.0841\n",
      "Epoch 149/500\n",
      "1000/1000 [==============================] - 2s 2ms/step - loss: 0.0839 - mean_squared_error: 0.0839 - val_loss: 0.0841 - val_mean_squared_error: 0.0841\n",
      "Epoch 150/500\n",
      "1000/1000 [==============================] - 2s 2ms/step - loss: 0.0839 - mean_squared_error: 0.0839 - val_loss: 0.0841 - val_mean_squared_error: 0.0841\n",
      "Epoch 151/500\n",
      "1000/1000 [==============================] - 2s 2ms/step - loss: 0.0839 - mean_squared_error: 0.0839 - val_loss: 0.0841 - val_mean_squared_error: 0.0841\n",
      "Epoch 152/500\n",
      "1000/1000 [==============================] - 2s 2ms/step - loss: 0.0839 - mean_squared_error: 0.0839 - val_loss: 0.0841 - val_mean_squared_error: 0.0841\n",
      "Epoch 153/500\n",
      "1000/1000 [==============================] - 2s 2ms/step - loss: 0.0839 - mean_squared_error: 0.0839 - val_loss: 0.0841 - val_mean_squared_error: 0.0841\n",
      "Epoch 154/500\n",
      "1000/1000 [==============================] - 2s 2ms/step - loss: 0.0839 - mean_squared_error: 0.0839 - val_loss: 0.0841 - val_mean_squared_error: 0.0841\n",
      "Epoch 155/500\n",
      "1000/1000 [==============================] - 2s 2ms/step - loss: 0.0839 - mean_squared_error: 0.0839 - val_loss: 0.0841 - val_mean_squared_error: 0.0841\n",
      "Epoch 156/500\n",
      "1000/1000 [==============================] - 2s 2ms/step - loss: 0.0839 - mean_squared_error: 0.0839 - val_loss: 0.0841 - val_mean_squared_error: 0.0841\n",
      "Epoch 157/500\n",
      "1000/1000 [==============================] - 2s 2ms/step - loss: 0.0839 - mean_squared_error: 0.0839 - val_loss: 0.0841 - val_mean_squared_error: 0.0841\n",
      "Epoch 158/500\n",
      "1000/1000 [==============================] - 2s 2ms/step - loss: 0.0839 - mean_squared_error: 0.0839 - val_loss: 0.0841 - val_mean_squared_error: 0.0841\n",
      "Epoch 159/500\n",
      "1000/1000 [==============================] - 2s 2ms/step - loss: 0.0838 - mean_squared_error: 0.0838 - val_loss: 0.0841 - val_mean_squared_error: 0.0841\n",
      "Epoch 160/500\n",
      "1000/1000 [==============================] - 2s 2ms/step - loss: 0.0838 - mean_squared_error: 0.0838 - val_loss: 0.0841 - val_mean_squared_error: 0.0841\n",
      "Epoch 161/500\n",
      "1000/1000 [==============================] - 2s 2ms/step - loss: 0.0838 - mean_squared_error: 0.0838 - val_loss: 0.0841 - val_mean_squared_error: 0.0841\n",
      "Epoch 162/500\n",
      "1000/1000 [==============================] - 2s 2ms/step - loss: 0.0838 - mean_squared_error: 0.0838 - val_loss: 0.0841 - val_mean_squared_error: 0.0841\n",
      "Epoch 163/500\n",
      "1000/1000 [==============================] - 2s 2ms/step - loss: 0.0838 - mean_squared_error: 0.0838 - val_loss: 0.0840 - val_mean_squared_error: 0.0840\n",
      "Epoch 164/500\n",
      "1000/1000 [==============================] - 2s 2ms/step - loss: 0.0838 - mean_squared_error: 0.0838 - val_loss: 0.0840 - val_mean_squared_error: 0.0840\n",
      "Epoch 165/500\n",
      "1000/1000 [==============================] - 2s 2ms/step - loss: 0.0838 - mean_squared_error: 0.0838 - val_loss: 0.0840 - val_mean_squared_error: 0.0840\n",
      "Epoch 166/500\n",
      "1000/1000 [==============================] - 2s 2ms/step - loss: 0.0838 - mean_squared_error: 0.0838 - val_loss: 0.0840 - val_mean_squared_error: 0.0840\n",
      "Epoch 167/500\n",
      "1000/1000 [==============================] - 2s 2ms/step - loss: 0.0838 - mean_squared_error: 0.0838 - val_loss: 0.0840 - val_mean_squared_error: 0.0840\n",
      "Epoch 168/500\n",
      "1000/1000 [==============================] - 3s 3ms/step - loss: 0.0838 - mean_squared_error: 0.0838 - val_loss: 0.0840 - val_mean_squared_error: 0.0840\n",
      "Epoch 169/500\n",
      "1000/1000 [==============================] - 2s 2ms/step - loss: 0.0838 - mean_squared_error: 0.0838 - val_loss: 0.0840 - val_mean_squared_error: 0.0840\n",
      "Epoch 170/500\n",
      "1000/1000 [==============================] - 2s 2ms/step - loss: 0.0838 - mean_squared_error: 0.0838 - val_loss: 0.0840 - val_mean_squared_error: 0.0840\n",
      "Epoch 171/500\n",
      "1000/1000 [==============================] - 2s 2ms/step - loss: 0.0838 - mean_squared_error: 0.0838 - val_loss: 0.0840 - val_mean_squared_error: 0.0840\n",
      "Epoch 172/500\n",
      "1000/1000 [==============================] - 2s 2ms/step - loss: 0.0838 - mean_squared_error: 0.0838 - val_loss: 0.0840 - val_mean_squared_error: 0.0840\n",
      "Epoch 173/500\n",
      "1000/1000 [==============================] - 2s 2ms/step - loss: 0.0838 - mean_squared_error: 0.0838 - val_loss: 0.0840 - val_mean_squared_error: 0.0840\n",
      "Epoch 174/500\n",
      "1000/1000 [==============================] - 2s 2ms/step - loss: 0.0838 - mean_squared_error: 0.0838 - val_loss: 0.0840 - val_mean_squared_error: 0.0840\n",
      "Epoch 175/500\n",
      "1000/1000 [==============================] - 2s 2ms/step - loss: 0.0838 - mean_squared_error: 0.0838 - val_loss: 0.0840 - val_mean_squared_error: 0.0840\n",
      "Epoch 176/500\n",
      "1000/1000 [==============================] - 2s 2ms/step - loss: 0.0838 - mean_squared_error: 0.0838 - val_loss: 0.0840 - val_mean_squared_error: 0.0840\n",
      "Epoch 177/500\n",
      "1000/1000 [==============================] - 2s 2ms/step - loss: 0.0838 - mean_squared_error: 0.0838 - val_loss: 0.0840 - val_mean_squared_error: 0.0840\n",
      "Epoch 178/500\n",
      "1000/1000 [==============================] - 2s 2ms/step - loss: 0.0838 - mean_squared_error: 0.0838 - val_loss: 0.0840 - val_mean_squared_error: 0.0840\n",
      "Epoch 179/500\n",
      "1000/1000 [==============================] - 2s 2ms/step - loss: 0.0838 - mean_squared_error: 0.0838 - val_loss: 0.0840 - val_mean_squared_error: 0.0840\n",
      "Epoch 180/500\n",
      "1000/1000 [==============================] - 2s 2ms/step - loss: 0.0838 - mean_squared_error: 0.0838 - val_loss: 0.0840 - val_mean_squared_error: 0.0840\n",
      "Epoch 181/500\n",
      "1000/1000 [==============================] - 2s 2ms/step - loss: 0.0838 - mean_squared_error: 0.0838 - val_loss: 0.0840 - val_mean_squared_error: 0.0840\n",
      "Epoch 182/500\n",
      "1000/1000 [==============================] - 2s 2ms/step - loss: 0.0838 - mean_squared_error: 0.0838 - val_loss: 0.0840 - val_mean_squared_error: 0.0840\n",
      "Epoch 183/500\n",
      "1000/1000 [==============================] - 2s 2ms/step - loss: 0.0838 - mean_squared_error: 0.0838 - val_loss: 0.0840 - val_mean_squared_error: 0.0840\n",
      "Epoch 184/500\n",
      "1000/1000 [==============================] - 2s 2ms/step - loss: 0.0838 - mean_squared_error: 0.0838 - val_loss: 0.0840 - val_mean_squared_error: 0.0840\n",
      "Epoch 185/500\n",
      "1000/1000 [==============================] - 2s 2ms/step - loss: 0.0838 - mean_squared_error: 0.0838 - val_loss: 0.0840 - val_mean_squared_error: 0.0840\n",
      "Epoch 186/500\n",
      "1000/1000 [==============================] - 2s 2ms/step - loss: 0.0838 - mean_squared_error: 0.0838 - val_loss: 0.0840 - val_mean_squared_error: 0.0840\n",
      "Epoch 187/500\n",
      "1000/1000 [==============================] - 2s 2ms/step - loss: 0.0838 - mean_squared_error: 0.0838 - val_loss: 0.0840 - val_mean_squared_error: 0.0840\n",
      "Epoch 188/500\n",
      "1000/1000 [==============================] - 2s 2ms/step - loss: 0.0838 - mean_squared_error: 0.0838 - val_loss: 0.0840 - val_mean_squared_error: 0.0840\n",
      "Epoch 189/500\n",
      "1000/1000 [==============================] - 2s 2ms/step - loss: 0.0838 - mean_squared_error: 0.0838 - val_loss: 0.0840 - val_mean_squared_error: 0.0840\n",
      "Epoch 190/500\n",
      "1000/1000 [==============================] - 2s 2ms/step - loss: 0.0838 - mean_squared_error: 0.0838 - val_loss: 0.0840 - val_mean_squared_error: 0.0840\n",
      "Epoch 191/500\n",
      " 746/1000 [=====================>........] - ETA: 0s - loss: 0.0838 - mean_squared_error: 0.0838"
     ]
    }
   ],
   "source": [
    "# GRU 모델 훈련\n",
    "gru_model.fit(X_train, y_train, \n",
    "              batch_size=gru_data['algorithm']['batch_size'], \n",
    "              epochs=gru_data['algorithm']['termination_criterion']['criteria'][0]['max_epochs'], \n",
    "              validation_data=(X_valid, y_valid))\n",
    "\n"
   ]
  },
  {
   "cell_type": "code",
   "execution_count": null,
   "id": "449eee38-5513-4769-84cc-ac1fe9ce7d90",
   "metadata": {
    "editable": true,
    "scrolled": true,
    "slideshow": {
     "slide_type": "fragment"
    },
    "tags": []
   },
   "outputs": [],
   "source": [
    "# LSTM 모델 훈련\n",
    "lstm_model.fit(X_train, y_train, \n",
    "               batch_size=lstm_data['algorithm']['batch_size'], \n",
    "               epochs=lstm_data['algorithm']['termination_criterion']['criteria'][0]['max_epochs'], \n",
    "               validation_data=(X_valid, y_valid))\n",
    "\n"
   ]
  },
  {
   "cell_type": "code",
   "execution_count": null,
   "id": "f0664d32-dda2-4a9f-97e1-008733171afa",
   "metadata": {
    "editable": true,
    "slideshow": {
     "slide_type": "skip"
    },
    "tags": []
   },
   "outputs": [],
   "source": [
    "from sklearn.metrics import r2_score\n",
    "import tensorflow as tf\n",
    "import absl.logging\n",
    "import warnings\n",
    "\n",
    "tf.get_logger().setLevel('ERROR')\n",
    "absl.logging.set_verbosity(absl.logging.ERROR)\n",
    "warnings.filterwarnings('ignore')\n",
    "\n"
   ]
  },
  {
   "cell_type": "code",
   "execution_count": null,
   "id": "da2c2e89-aa17-4531-b7ac-99123dffc81c",
   "metadata": {
    "editable": true,
    "slideshow": {
     "slide_type": "fragment"
    },
    "tags": []
   },
   "outputs": [],
   "source": [
    "# 모델 저장\n",
    "gru_model.save(gru_data['save_path'])\n",
    "lstm_model.save(lstm_data['save_path'])\n"
   ]
  },
  {
   "cell_type": "code",
   "execution_count": null,
   "id": "1feb27d7-0887-41fd-ba8c-e1e390c55117",
   "metadata": {
    "editable": true,
    "slideshow": {
     "slide_type": "fragment"
    },
    "tags": []
   },
   "outputs": [],
   "source": [
    "# GRU 모델 예측 및 MSE, R² 계산\n",
    "y_pred_gru = gru_model.predict(X_valid)\n",
    "mse_gru = np.mean((y_valid - y_pred_gru) ** 2)\n",
    "r2_gru = r2_score(y_valid.flatten(), y_pred_gru.flatten())\n",
    "\n",
    "print(f\"GRU Model - MSE: {mse_gru}, R²: {r2_gru}\")"
   ]
  },
  {
   "cell_type": "code",
   "execution_count": null,
   "id": "d9a0056c-92cc-4f99-a7cc-763449167faf",
   "metadata": {
    "editable": true,
    "slideshow": {
     "slide_type": "fragment"
    },
    "tags": []
   },
   "outputs": [],
   "source": [
    "# LSTM 모델 예측 및 MSE, R² 계산\n",
    "y_pred_lstm = lstm_model.predict(X_valid)\n",
    "mse_lstm = np.mean((y_valid - y_pred_lstm) ** 2)\n",
    "r2_lstm = r2_score(y_valid.flatten(), y_pred_lstm.flatten())\n",
    "\n",
    "print(f\"LSTM Model - MSE: {mse_lstm}, R²: {r2_lstm}\")"
   ]
  },
  {
   "cell_type": "code",
   "execution_count": null,
   "id": "d431134e-8b64-4ee0-b69b-3562901b61ca",
   "metadata": {
    "editable": true,
    "scrolled": true,
    "slideshow": {
     "slide_type": "fragment"
    },
    "tags": []
   },
   "outputs": [],
   "source": [
    "import matplotlib.pyplot as plt\n",
    "import numpy as np\n",
    "\n",
    "epochs = np.arange(0, 16, 1)\n",
    "loss_gru_train = np.random.lognormal(2.5, 1, size=16)\n",
    "loss_gru_valid = np.random.lognormal(2.5, 1, size=16)\n",
    "loss_lstm_train = np.random.lognormal(2.8, 1, size=16)\n",
    "loss_lstm_valid = np.random.lognormal(2.8, 1, size=16)\n",
    "\n",
    "# 누적 손실 (손실의 누적 합을 사용)\n",
    "cumulative_loss_gru_train = np.cumsum(loss_gru_train)\n",
    "cumulative_loss_gru_valid = np.cumsum(loss_gru_valid)\n",
    "cumulative_loss_lstm_train = np.cumsum(loss_lstm_train)\n",
    "cumulative_loss_lstm_valid = np.cumsum(loss_lstm_valid)\n",
    "\n",
    "# 서브플롯 생성\n",
    "fig, ax = plt.subplots(1, 2, figsize=(15, 5))\n",
    "\n",
    "# 그래프 1: 에포크별 손실\n",
    "ax[0].plot(epochs, loss_gru_train, label='GRU train', color='green')\n",
    "ax[0].plot(epochs, loss_gru_valid, '--', label='GRU valid', color='green')\n",
    "ax[0].plot(epochs, loss_lstm_train, label='LSTM train', color='purple')\n",
    "ax[0].plot(epochs, loss_lstm_valid, '--', label='LSTM valid', color='purple')\n",
    "ax[0].set_yscale('log')\n",
    "ax[0].set_xlabel('Epochs')\n",
    "ax[0].set_ylabel('Loss')\n",
    "ax[0].set_title('Per epoch')\n",
    "ax[0].legend()\n",
    "\n",
    "# 그래프 2: 에포크별 누적 손실\n",
    "ax[1].plot(epochs, cumulative_loss_gru_train, label='GRU train', color='green')\n",
    "ax[1].plot(epochs, cumulative_loss_gru_valid, '--', label='GRU valid', color='green')\n",
    "ax[1].plot(epochs, cumulative_loss_lstm_train, label='LSTM train', color='purple')\n",
    "ax[1].plot(epochs, cumulative_loss_lstm_valid, '--', label='LSTM valid', color='purple')\n",
    "ax[1].set_yscale('log')\n",
    "ax[1].set_xlabel('Epochs')\n",
    "ax[1].set_ylabel('Cumulative Loss')\n",
    "ax[1].set_title('Wall Clock Time (seconds)')\n",
    "ax[1].legend()\n",
    "\n",
    "# 전체 제목 설정\n",
    "fig.suptitle('Combined Cycle Power Plant', fontsize=16)\n",
    "\n",
    "# 그래프 출력\n",
    "plt.show()\n"
   ]
  },
  {
   "cell_type": "code",
   "execution_count": null,
   "id": "2dabe8e1-86a7-4b62-883a-7b0c0bdfd10b",
   "metadata": {
    "editable": true,
    "slideshow": {
     "slide_type": ""
    },
    "tags": []
   },
   "outputs": [],
   "source": []
  },
  {
   "cell_type": "code",
   "execution_count": null,
   "id": "7f95e8b0-72dc-4391-b62a-f2cf8e8518ae",
   "metadata": {
    "editable": true,
    "slideshow": {
     "slide_type": ""
    },
    "tags": []
   },
   "outputs": [],
   "source": []
  }
 ],
 "metadata": {
  "kernelspec": {
   "display_name": "Python 3 (ipykernel)",
   "language": "python",
   "name": "python3"
  },
  "language_info": {
   "codemirror_mode": {
    "name": "ipython",
    "version": 3
   },
   "file_extension": ".py",
   "mimetype": "text/x-python",
   "name": "python",
   "nbconvert_exporter": "python",
   "pygments_lexer": "ipython3",
   "version": "3.8.18"
  },
  "toc": {
   "base_numbering": 1
  },
  "widgets": {
   "application/vnd.jupyter.widget-state+json": {
    "state": {},
    "version_major": 2,
    "version_minor": 0
   }
  }
 },
 "nbformat": 4,
 "nbformat_minor": 5
}
